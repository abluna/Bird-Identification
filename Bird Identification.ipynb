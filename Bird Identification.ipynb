{
 "cells": [
  {
   "cell_type": "code",
   "execution_count": 1,
   "id": "2476abaa-2670-4c6c-9447-c0438193ebaf",
   "metadata": {},
   "outputs": [],
   "source": [
    "import pandas as pd\n",
    "import os, shutil\n",
    "import numpy as np"
   ]
  },
  {
   "cell_type": "code",
   "execution_count": 2,
   "id": "cd3556e4-06db-4cff-bbbf-7bad8616e285",
   "metadata": {},
   "outputs": [],
   "source": [
    "import tensorflow\n",
    "from tensorflow.compat.v1.keras.backend import set_session\n",
    "config = tensorflow.compat.v1.ConfigProto()\n",
    "config.gpu_options.allow_growth = True\n",
    "sess = tensorflow.compat.v1.Session(config=config)\n",
    "set_session(sess)\n",
    "import tensorflow.keras.backend as K\n",
    "\n",
    "tensorflow.compat.v1.disable_eager_execution()"
   ]
  },
  {
   "cell_type": "code",
   "execution_count": 3,
   "id": "8a6dc1ce-ca23-47ed-aa68-8ed59d09cd21",
   "metadata": {},
   "outputs": [],
   "source": [
    "os.chdir(\"C:/Users/abbal/Documents/Data Science Personal Projects/Py - Bird Classification\")"
   ]
  },
  {
   "cell_type": "code",
   "execution_count": 4,
   "id": "c1373f25-e3a7-4da8-8c94-2dd499833533",
   "metadata": {},
   "outputs": [],
   "source": [
    "## Create a folder for each set\n",
    "TTV_Sets = [\"test\", \"train\", \"validation\"]\n",
    "for st in TTV_Sets:\n",
    "    os.mkdir(os.path.join(\"./Categorized\" , st))"
   ]
  },
  {
   "cell_type": "code",
   "execution_count": 5,
   "id": "61779b36-55c0-4b90-ae70-c496bc5f18f5",
   "metadata": {},
   "outputs": [],
   "source": [
    "directory_list = list()\n",
    "dog_breeds = list()\n",
    "for root, dirs, files in os.walk(\"./Raw Images\", topdown=False):\n",
    "    for name in dirs:\n",
    "        directory_list.append(os.path.join(root, name))\n",
    "        dog_breeds.append(name)\n",
    "\n",
    "TTV_Sets = [\"train\", \"test\", \"validation\"]        \n",
    "for st in TTV_Sets:\n",
    "    for i in dog_breeds:     \n",
    "        os.mkdir(os.path.join(\"./Categorized\",st, i))"
   ]
  },
  {
   "cell_type": "code",
   "execution_count": 6,
   "id": "d8e875a2-5689-4abb-ad27-6ce8708832fb",
   "metadata": {},
   "outputs": [],
   "source": [
    "## split labels to train, test and validation\n",
    "def train_validate_test_split(array, train_percent=0.60, validate_percent=0.40, seed=1):\n",
    "    np.random.seed(seed)\n",
    "    perm = np.random.permutation(array)\n",
    "    m = len(array)\n",
    "    train_end = int(train_percent * m)\n",
    "    validate_end = int(validate_percent * m) + train_end\n",
    "    train = perm[:train_end]\n",
    "    validate = perm[train_end:validate_end]\n",
    "    test = perm[validate_end:]\n",
    "    return train, validate, test"
   ]
  },
  {
   "cell_type": "code",
   "execution_count": 7,
   "id": "e48d39ea-1470-45b3-b382-7b0756ff091a",
   "metadata": {},
   "outputs": [
    {
     "name": "stdout",
     "output_type": "stream",
     "text": [
      "American Wigeon Bird\n",
      "Blue-winged Teal Bird\n",
      "Brant Bird\n",
      "Cackling Goose Bird\n",
      "Canada Goose Bird\n",
      "Canvasback Bird\n",
      "Cinnamon Teal Bird\n",
      "Eurasian Wigeon Bird\n",
      "Fulvous Whistling-Duck Bird\n",
      "Gadwall Bird\n",
      "Greater Scaup Bird\n",
      "Greater White-fronted Goose Bird\n",
      "Green-winged Teal Bird\n",
      "Mallard Bird\n",
      "Mandarin Duck Bird\n",
      "Mexican Duck Bird\n",
      "Northern Pintail Bird\n",
      "Northern Shoveler Bird\n",
      "Redhead Bird\n",
      "Ring-necked Duck Bird\n",
      "Ross's Goose Bird\n",
      "Snow Goose Bird\n",
      "Tufted Duck Bird\n",
      "Tundra Swan Bird\n",
      "Wood Duck Bird\n"
     ]
    }
   ],
   "source": [
    "for fld in range(len(directory_list)):\n",
    "\n",
    "    TempFLDR = directory_list[fld]\n",
    "    TempDogBreed = dog_breeds[fld]\n",
    "    \n",
    "    ## Get files in folder\n",
    "    fles = []\n",
    "    for (dirpath, dirnames, filenames) in os.walk(TempFLDR):\n",
    "        fles.extend(filenames)\n",
    "        break\n",
    "\n",
    "    ## split the files into train, test, validation\n",
    "    train, validate, test = train_validate_test_split(fles)\n",
    "\n",
    "    ## Copy each file in their respective folder\n",
    "    for fle in range(len(train)):\n",
    "        Orig_file = os.path.join(TempFLDR, train[fle])\n",
    "        New_file = os.path.join(\"./Categorized/train\",TempDogBreed, train[fle])\n",
    "        shutil.copyfile(Orig_file, New_file)\n",
    "\n",
    "    for fle in range(len(validate)):\n",
    "        Orig_file = os.path.join(TempFLDR, validate[fle])\n",
    "        New_file = os.path.join(\"./Categorized/validation\",TempDogBreed, validate[fle])\n",
    "        shutil.copyfile(Orig_file, New_file)\n",
    "\n",
    "    for fle in range(len(test)):\n",
    "        Orig_file = os.path.join(TempFLDR, test[fle])\n",
    "        New_file = os.path.join(\"./Categorized/test\",TempDogBreed, test[fle])\n",
    "        shutil.copyfile(Orig_file, New_file)\n",
    "    print(TempDogBreed)        "
   ]
  },
  {
   "cell_type": "code",
   "execution_count": 8,
   "id": "c7304b40-3de8-4ad8-95d3-30d86465bce5",
   "metadata": {},
   "outputs": [],
   "source": [
    "train_dir = os.path.join(\"./Categorized\", 'train')\n",
    "validation_dir = os.path.join(\"./Categorized\", 'validation')\n",
    "test_dir = os.path.join(\"./Categorized\", 'test')"
   ]
  },
  {
   "cell_type": "code",
   "execution_count": 9,
   "id": "df906add-af2d-44b4-8d8f-7483d198d5f8",
   "metadata": {},
   "outputs": [
    {
     "name": "stdout",
     "output_type": "stream",
     "text": [
      "WARNING:tensorflow:From C:\\Users\\abbal\\anaconda3\\envs\\tf_env\\lib\\site-packages\\keras\\layers\\normalization\\batch_normalization.py:562: _colocate_with (from tensorflow.python.framework.ops) is deprecated and will be removed in a future version.\n",
      "Instructions for updating:\n",
      "Colocations handled automatically by placer.\n"
     ]
    }
   ],
   "source": [
    "## let's use ResNet50\n",
    "## Let's also increase the image processing size to 300x300\n",
    "from keras.applications import InceptionResNetV2\n",
    "\n",
    "conv_base = InceptionResNetV2(weights='imagenet', \n",
    "                              include_top=False,\n",
    "                              input_shape=(256, 256, 3))"
   ]
  },
  {
   "cell_type": "code",
   "execution_count": 10,
   "id": "7a72a857-cbf5-4ad7-8fce-39563723be40",
   "metadata": {},
   "outputs": [],
   "source": [
    "from keras import models\n",
    "from keras import layers\n",
    "\n",
    "model = models.Sequential()\n",
    "model.add(conv_base)\n",
    "model.add(layers.Conv2D(1024, (3, 3), activation='relu'))\n",
    "model.add(layers.Conv2D(1024, (3, 3), activation='relu'))\n",
    "model.add(layers.MaxPooling2D((2, 2)))\n",
    "model.add(layers.Flatten())\n",
    "model.add(layers.Dense(1024, activation='relu'))\n",
    "model.add(layers.Dense(25, activation='softmax'))"
   ]
  },
  {
   "cell_type": "code",
   "execution_count": 11,
   "id": "64f48408-f1f5-4846-ac09-ae294ccbe8d3",
   "metadata": {},
   "outputs": [],
   "source": [
    "## Fix base model so it doesn't train.\n",
    "conv_base.trainable = False"
   ]
  },
  {
   "cell_type": "code",
   "execution_count": 12,
   "id": "507ae2e9-6000-40ea-9b0f-df01173d64b7",
   "metadata": {},
   "outputs": [
    {
     "name": "stderr",
     "output_type": "stream",
     "text": [
      "C:\\Users\\abbal\\anaconda3\\envs\\tf_env\\lib\\site-packages\\keras\\optimizers\\optimizer_v2\\rmsprop.py:140: UserWarning: The `lr` argument is deprecated, use `learning_rate` instead.\n",
      "  super().__init__(name, **kwargs)\n"
     ]
    }
   ],
   "source": [
    "from tensorflow.keras import optimizers\n",
    "\n",
    "model.compile(loss='categorical_crossentropy',\n",
    "              optimizer=optimizers.RMSprop(lr=1e-4),\n",
    "              metrics=['acc'])"
   ]
  },
  {
   "cell_type": "code",
   "execution_count": 13,
   "id": "86121d51-5b7b-4c2f-afd3-bad60caf6720",
   "metadata": {},
   "outputs": [
    {
     "name": "stdout",
     "output_type": "stream",
     "text": [
      "Model: \"sequential\"\n",
      "_________________________________________________________________\n",
      " Layer (type)                Output Shape              Param #   \n",
      "=================================================================\n",
      " inception_resnet_v2 (Functi  (None, 6, 6, 1536)       54336736  \n",
      " onal)                                                           \n",
      "                                                                 \n",
      " conv2d_203 (Conv2D)         (None, 4, 4, 1024)        14156800  \n",
      "                                                                 \n",
      " conv2d_204 (Conv2D)         (None, 2, 2, 1024)        9438208   \n",
      "                                                                 \n",
      " max_pooling2d_4 (MaxPooling  (None, 1, 1, 1024)       0         \n",
      " 2D)                                                             \n",
      "                                                                 \n",
      " flatten (Flatten)           (None, 1024)              0         \n",
      "                                                                 \n",
      " dense (Dense)               (None, 1024)              1049600   \n",
      "                                                                 \n",
      " dense_1 (Dense)             (None, 25)                25625     \n",
      "                                                                 \n",
      "=================================================================\n",
      "Total params: 79,006,969\n",
      "Trainable params: 24,670,233\n",
      "Non-trainable params: 54,336,736\n",
      "_________________________________________________________________\n"
     ]
    }
   ],
   "source": [
    "model.summary()"
   ]
  },
  {
   "cell_type": "code",
   "execution_count": 14,
   "id": "51881981-c1f1-4cff-927a-d82f7c134307",
   "metadata": {},
   "outputs": [
    {
     "name": "stdout",
     "output_type": "stream",
     "text": [
      "Found 750 images belonging to 25 classes.\n",
      "Found 499 images belonging to 25 classes.\n"
     ]
    }
   ],
   "source": [
    "from tensorflow.keras.preprocessing.image import ImageDataGenerator\n",
    "from keras.applications.inception_v3 import preprocess_input, decode_predictions\n",
    "\n",
    "## Process images by:\n",
    "## using inception pre-processing function\n",
    "## adding some distortion to the images\n",
    "train_datagen = ImageDataGenerator(\n",
    "      preprocessing_function=preprocess_input,\n",
    "      rotation_range=45,\n",
    "      width_shift_range=0.15,\n",
    "      height_shift_range=0.15,\n",
    "      shear_range=0.15,\n",
    "      zoom_range=0.3,\n",
    "      horizontal_flip=True,\n",
    "      fill_mode='nearest')\n",
    "\n",
    "## Don't validate test images\n",
    "test_datagen = ImageDataGenerator(preprocessing_function=preprocess_input)\n",
    "\n",
    "train_generator = train_datagen.flow_from_directory(\n",
    "        train_dir,\n",
    "        target_size=(256, 256),\n",
    "        batch_size=32,\n",
    "        class_mode='categorical')\n",
    "\n",
    "validation_generator = test_datagen.flow_from_directory(\n",
    "        validation_dir,\n",
    "        target_size=(256, 256),\n",
    "        batch_size=32,\n",
    "        class_mode='categorical')"
   ]
  },
  {
   "cell_type": "code",
   "execution_count": 15,
   "id": "bddb3ab1-d984-4aeb-ab1e-e4608deaec33",
   "metadata": {},
   "outputs": [
    {
     "name": "stdout",
     "output_type": "stream",
     "text": [
      "Epoch 1/50\n",
      "100/100 [==============================] - ETA: 0s - batch: 49.5000 - size: 31.2800 - loss: 2.5201 - acc: 0.2519"
     ]
    },
    {
     "name": "stderr",
     "output_type": "stream",
     "text": [
      "C:\\Users\\abbal\\anaconda3\\envs\\tf_env\\lib\\site-packages\\keras\\engine\\training_v1.py:2332: UserWarning: `Model.state_updates` will be removed in a future version. This property should not be used in TensorFlow 2.0, as `updates` are applied automatically.\n",
      "  updates = self.state_updates\n",
      "C:\\Users\\abbal\\anaconda3\\envs\\tf_env\\lib\\site-packages\\PIL\\Image.py:1000: UserWarning: Palette images with Transparency expressed in bytes should be converted to RGBA images\n",
      "  warnings.warn(\n"
     ]
    },
    {
     "name": "stdout",
     "output_type": "stream",
     "text": [
      "100/100 [==============================] - 55s 425ms/step - batch: 49.5000 - size: 31.2800 - loss: 2.5201 - acc: 0.2519 - val_loss: 2.7686 - val_acc: 0.2284\n",
      "Epoch 2/50\n",
      "100/100 [==============================] - 36s 361ms/step - batch: 49.5000 - size: 31.1000 - loss: 1.6175 - acc: 0.4904 - val_loss: 2.9095 - val_acc: 0.2703\n",
      "Epoch 3/50\n",
      "100/100 [==============================] - 36s 364ms/step - batch: 49.5000 - size: 31.4600 - loss: 1.2610 - acc: 0.5906 - val_loss: 3.5234 - val_acc: 0.2623\n",
      "Epoch 4/50\n",
      "100/100 [==============================] - 37s 371ms/step - batch: 49.5000 - size: 31.2800 - loss: 1.0811 - acc: 0.6506 - val_loss: 2.3427 - val_acc: 0.3549\n",
      "Epoch 5/50\n",
      "100/100 [==============================] - 38s 380ms/step - batch: 49.5000 - size: 31.1000 - loss: 0.9103 - acc: 0.7061 - val_loss: 2.7831 - val_acc: 0.3578\n",
      "Epoch 6/50\n",
      "100/100 [==============================] - 38s 385ms/step - batch: 49.5000 - size: 31.2800 - loss: 0.7707 - acc: 0.7535 - val_loss: 2.5034 - val_acc: 0.3398\n",
      "Epoch 7/50\n",
      "100/100 [==============================] - 35s 357ms/step - batch: 49.5000 - size: 31.1000 - loss: 0.7384 - acc: 0.7540 - val_loss: 2.2107 - val_acc: 0.4148\n",
      "Epoch 8/50\n",
      "100/100 [==============================] - 35s 357ms/step - batch: 49.5000 - size: 31.2800 - loss: 0.6235 - acc: 0.7944 - val_loss: 2.6592 - val_acc: 0.3821\n",
      "Epoch 9/50\n",
      "100/100 [==============================] - 35s 357ms/step - batch: 49.5000 - size: 31.2800 - loss: 0.5735 - acc: 0.8107 - val_loss: 3.4580 - val_acc: 0.4081\n",
      "Epoch 10/50\n",
      "100/100 [==============================] - 37s 368ms/step - batch: 49.5000 - size: 31.2800 - loss: 0.5428 - acc: 0.8216 - val_loss: 3.0759 - val_acc: 0.3700\n",
      "Epoch 11/50\n",
      "100/100 [==============================] - 37s 375ms/step - batch: 49.5000 - size: 31.4600 - loss: 0.5043 - acc: 0.8449 - val_loss: 3.4048 - val_acc: 0.3610\n",
      "Epoch 12/50\n",
      "100/100 [==============================] - 38s 386ms/step - batch: 49.5000 - size: 31.1000 - loss: 0.4629 - acc: 0.8563 - val_loss: 2.3849 - val_acc: 0.4680\n",
      "Epoch 13/50\n",
      "100/100 [==============================] - 35s 357ms/step - batch: 49.5000 - size: 31.2800 - loss: 0.4027 - acc: 0.8629 - val_loss: 2.3740 - val_acc: 0.4500\n",
      "Epoch 14/50\n",
      "100/100 [==============================] - 35s 355ms/step - batch: 49.5000 - size: 31.2800 - loss: 0.4104 - acc: 0.8715 - val_loss: 3.0156 - val_acc: 0.3885\n",
      "Epoch 15/50\n",
      "100/100 [==============================] - 36s 358ms/step - batch: 49.5000 - size: 31.2800 - loss: 0.3625 - acc: 0.8824 - val_loss: 2.4864 - val_acc: 0.4324\n",
      "Epoch 16/50\n",
      "100/100 [==============================] - 37s 368ms/step - batch: 49.5000 - size: 31.1000 - loss: 0.3750 - acc: 0.8801 - val_loss: 4.8100 - val_acc: 0.3315\n",
      "Epoch 17/50\n",
      "100/100 [==============================] - 37s 375ms/step - batch: 49.5000 - size: 31.2800 - loss: 0.3150 - acc: 0.8993 - val_loss: 2.9817 - val_acc: 0.4122\n",
      "Epoch 18/50\n",
      "100/100 [==============================] - 38s 387ms/step - batch: 49.5000 - size: 31.2800 - loss: 0.3443 - acc: 0.8910 - val_loss: 3.1947 - val_acc: 0.4158\n",
      "Epoch 19/50\n",
      "100/100 [==============================] - 36s 360ms/step - batch: 49.5000 - size: 31.2800 - loss: 0.3312 - acc: 0.8958 - val_loss: 3.0810 - val_acc: 0.4523\n",
      "Epoch 20/50\n",
      "100/100 [==============================] - 36s 358ms/step - batch: 49.5000 - size: 31.1000 - loss: 0.3104 - acc: 0.9058 - val_loss: 4.3209 - val_acc: 0.3475\n",
      "Epoch 21/50\n",
      "100/100 [==============================] - 35s 351ms/step - batch: 49.5000 - size: 31.2800 - loss: 0.2864 - acc: 0.9098 - val_loss: 2.8155 - val_acc: 0.4263\n",
      "Epoch 22/50\n",
      "100/100 [==============================] - 36s 364ms/step - batch: 49.5000 - size: 31.2800 - loss: 0.2942 - acc: 0.9092 - val_loss: 2.7417 - val_acc: 0.4494\n",
      "Epoch 23/50\n",
      "100/100 [==============================] - 37s 376ms/step - batch: 49.5000 - size: 31.2800 - loss: 0.2839 - acc: 0.9095 - val_loss: 2.8477 - val_acc: 0.4520\n",
      "Epoch 24/50\n",
      "100/100 [==============================] - 38s 382ms/step - batch: 49.5000 - size: 31.2800 - loss: 0.2662 - acc: 0.9204 - val_loss: 3.3132 - val_acc: 0.4202\n",
      "Epoch 25/50\n",
      "100/100 [==============================] - 36s 363ms/step - batch: 49.5000 - size: 31.2800 - loss: 0.2571 - acc: 0.9223 - val_loss: 3.6732 - val_acc: 0.4231\n",
      "Epoch 26/50\n",
      "100/100 [==============================] - 35s 353ms/step - batch: 49.5000 - size: 31.2800 - loss: 0.2472 - acc: 0.9242 - val_loss: 2.6545 - val_acc: 0.4930\n",
      "Epoch 27/50\n",
      "100/100 [==============================] - 35s 352ms/step - batch: 49.5000 - size: 31.1000 - loss: 0.2363 - acc: 0.9277 - val_loss: 2.5372 - val_acc: 0.5010\n",
      "Epoch 28/50\n",
      "100/100 [==============================] - 36s 358ms/step - batch: 49.5000 - size: 31.2800 - loss: 0.2515 - acc: 0.9191 - val_loss: 4.6842 - val_acc: 0.3395\n",
      "Epoch 29/50\n",
      "100/100 [==============================] - 37s 374ms/step - batch: 49.5000 - size: 31.2800 - loss: 0.2613 - acc: 0.9226 - val_loss: 4.1634 - val_acc: 0.3661\n",
      "Epoch 30/50\n",
      "100/100 [==============================] - 37s 376ms/step - batch: 49.5000 - size: 31.2800 - loss: 0.2283 - acc: 0.9316 - val_loss: 3.1174 - val_acc: 0.4747\n",
      "Epoch 31/50\n",
      "100/100 [==============================] - 35s 352ms/step - batch: 49.5000 - size: 31.2800 - loss: 0.2565 - acc: 0.9293 - val_loss: 3.4333 - val_acc: 0.3703\n",
      "Epoch 32/50\n",
      "100/100 [==============================] - 35s 348ms/step - batch: 49.5000 - size: 31.2800 - loss: 0.2207 - acc: 0.9367 - val_loss: 3.6918 - val_acc: 0.4084\n",
      "Epoch 33/50\n",
      "100/100 [==============================] - 35s 352ms/step - batch: 49.5000 - size: 31.2800 - loss: 0.2002 - acc: 0.9357 - val_loss: 2.8386 - val_acc: 0.5054\n",
      "Epoch 34/50\n",
      "100/100 [==============================] - 35s 356ms/step - batch: 49.5000 - size: 31.2800 - loss: 0.2027 - acc: 0.9370 - val_loss: 5.0599 - val_acc: 0.3370\n",
      "Epoch 35/50\n",
      "100/100 [==============================] - 36s 363ms/step - batch: 49.5000 - size: 31.1000 - loss: 0.2038 - acc: 0.9402 - val_loss: 3.8370 - val_acc: 0.4552\n",
      "Epoch 36/50\n",
      "100/100 [==============================] - 37s 375ms/step - batch: 49.5000 - size: 31.2800 - loss: 0.2073 - acc: 0.9405 - val_loss: 4.3182 - val_acc: 0.3680\n",
      "Epoch 37/50\n",
      "100/100 [==============================] - 35s 355ms/step - batch: 49.5000 - size: 31.1000 - loss: 0.1954 - acc: 0.9473 - val_loss: 3.8588 - val_acc: 0.4202\n",
      "Epoch 38/50\n",
      "100/100 [==============================] - 35s 354ms/step - batch: 49.5000 - size: 31.2800 - loss: 0.1790 - acc: 0.9466 - val_loss: 3.1809 - val_acc: 0.4286\n",
      "Epoch 39/50\n",
      "100/100 [==============================] - 35s 354ms/step - batch: 49.5000 - size: 31.2800 - loss: 0.2051 - acc: 0.9367 - val_loss: 3.6681 - val_acc: 0.4407\n",
      "Epoch 40/50\n",
      "100/100 [==============================] - 35s 356ms/step - batch: 49.5000 - size: 31.2800 - loss: 0.1891 - acc: 0.9425 - val_loss: 3.8501 - val_acc: 0.3965\n",
      "Epoch 41/50\n",
      "100/100 [==============================] - 36s 364ms/step - batch: 49.5000 - size: 31.2800 - loss: 0.2244 - acc: 0.9354 - val_loss: 3.3208 - val_acc: 0.4343\n",
      "Epoch 42/50\n",
      "100/100 [==============================] - 37s 369ms/step - batch: 49.5000 - size: 31.2800 - loss: 0.2000 - acc: 0.9377 - val_loss: 3.8319 - val_acc: 0.4340\n",
      "Epoch 43/50\n",
      "100/100 [==============================] - 35s 349ms/step - batch: 49.5000 - size: 31.2800 - loss: 0.1748 - acc: 0.9463 - val_loss: 5.4450 - val_acc: 0.3607\n",
      "Epoch 44/50\n",
      "100/100 [==============================] - 34s 342ms/step - batch: 49.5000 - size: 31.1000 - loss: 0.1806 - acc: 0.9469 - val_loss: 3.2866 - val_acc: 0.4331\n",
      "Epoch 45/50\n",
      "100/100 [==============================] - 35s 357ms/step - batch: 49.5000 - size: 31.2800 - loss: 0.1645 - acc: 0.9511 - val_loss: 3.2766 - val_acc: 0.4878\n",
      "Epoch 46/50\n",
      "100/100 [==============================] - 36s 358ms/step - batch: 49.5000 - size: 31.2800 - loss: 0.1785 - acc: 0.9488 - val_loss: 3.3393 - val_acc: 0.4715\n",
      "Epoch 47/50\n",
      "100/100 [==============================] - 36s 363ms/step - batch: 49.5000 - size: 31.2800 - loss: 0.1638 - acc: 0.9552 - val_loss: 4.5417 - val_acc: 0.3860\n",
      "Epoch 48/50\n",
      "100/100 [==============================] - 37s 375ms/step - batch: 49.5000 - size: 31.2800 - loss: 0.1593 - acc: 0.9524 - val_loss: 3.1471 - val_acc: 0.5067\n",
      "Epoch 49/50\n",
      "100/100 [==============================] - 35s 357ms/step - batch: 49.5000 - size: 31.2800 - loss: 0.1712 - acc: 0.9488 - val_loss: 4.9684 - val_acc: 0.4103\n",
      "Epoch 50/50\n",
      "100/100 [==============================] - 35s 354ms/step - batch: 49.5000 - size: 31.2800 - loss: 0.1793 - acc: 0.9485 - val_loss: 3.8689 - val_acc: 0.4241\n"
     ]
    }
   ],
   "source": [
    "## Only train for 30 epochs, since that will get us closer to the 90% accuracy\n",
    "history = model.fit(train_generator,\n",
    "                    steps_per_epoch=100,\n",
    "                    epochs=50,\n",
    "                    validation_data=validation_generator,\n",
    "                    validation_steps=100)"
   ]
  },
  {
   "cell_type": "code",
   "execution_count": 16,
   "id": "24c95c22-1bb9-40d3-bef7-5a689efbaaa4",
   "metadata": {},
   "outputs": [
    {
     "data": {
      "image/png": "[encoded data removed]",
      "text/plain": [
       "<Figure size 640x480 with 1 Axes>"
      ]
     },
     "metadata": {},
     "output_type": "display_data"
    },
    {
     "data": {
      "image/png": "[encoded data removed]",
      "text/plain": [
       "<Figure size 640x480 with 1 Axes>"
      ]
     },
     "metadata": {},
     "output_type": "display_data"
    }
   ],
   "source": [
    "## Let's plot model performance\n",
    "## Interesting that test performance starts really high\n",
    "## but doesn't really improve over time.\n",
    "import matplotlib.pyplot as plt\n",
    "\n",
    "acc = history.history['acc']\n",
    "val_acc = history.history['val_acc']\n",
    "loss = history.history['loss']\n",
    "val_loss = history.history['val_loss']\n",
    "\n",
    "epochs = range(len(acc))\n",
    "\n",
    "plt.plot(epochs, acc, 'b', label='Training acc')\n",
    "plt.plot(epochs, val_acc, 'bo', label='Validation acc')\n",
    "plt.title('Training and validation accuracy')\n",
    "plt.legend()\n",
    "\n",
    "plt.figure()\n",
    "\n",
    "plt.plot(epochs, loss, 'b', label='Training loss')\n",
    "plt.plot(epochs, val_loss, 'bo', label='Validation loss')\n",
    "plt.title('Training and validation loss')\n",
    "plt.legend()\n",
    "\n",
    "plt.show()"
   ]
  },
  {
   "cell_type": "code",
   "execution_count": null,
   "id": "54cf82ba-8342-4c85-926a-165a4cf128c7",
   "metadata": {},
   "outputs": [],
   "source": []
  }
 ],
 "metadata": {
  "kernelspec": {
   "display_name": "Python 3 (ipykernel)",
   "language": "python",
   "name": "python3"
  },
  "language_info": {
   "codemirror_mode": {
    "name": "ipython",
    "version": 3
   },
   "file_extension": ".py",
   "mimetype": "text/x-python",
   "name": "python",
   "nbconvert_exporter": "python",
   "pygments_lexer": "ipython3",
   "version": "3.9.19"
  }
 },
 "nbformat": 4,
 "nbformat_minor": 5
}
